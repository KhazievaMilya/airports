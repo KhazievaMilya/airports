{
 "cells": [
  {
   "cell_type": "code",
   "execution_count": 1,
   "metadata": {
    "id": "uPX7bttUi38V"
   },
   "outputs": [],
   "source": [
    "import pandas as pd\n",
    "from datetime import datetime, timezone, timedelta\n",
    "import pytz\n",
    "import seaborn as sns\n",
    "import matplotlib.pyplot as plt"
   ]
  },
  {
   "cell_type": "markdown",
   "metadata": {
    "id": "2bveVck4y-Jx"
   },
   "source": [
    "## Задача: \n",
    "1. Разработать  и  применить  алгоритм  вычисления  длительности  перелета  на  основе данных  о  покупках  билетов  и  любых  внешних  источников  данных,  которые предлагается  найти  самостоятельно. \n",
    "2. Построить  гистограмму  длительности  перелета  по  всем  данным. \n",
    "3. Найти  на  гистограмме  аномалии  (если  есть).\n",
    "\n",
    "\n",
    "Входные  данные:  test_task_min.csv.  Данные  о  покупках  билетов  в  виде  таблицы,  где  строка соответствует  одному  билету.  Вам  известны  детали  билета,  такие  как  IATA-код  аэропорта вылета, IATA-код  аэропорта  прилета,  местные  дата  и  время  вылета,  местные  дата  и время  прилета, IATA-код  перевозчика.  Также  вам  понадобятся  дополнительные  данные, которые  предлагается  найти  самостоятельно. \n",
    "\n",
    "Выходные  данные: \n",
    "\n",
    "1. Исходная  таблица  с  добавленным  столбцом  длительности  перелета. \n",
    "2. Гистограмма  по  столбцу  длительности  перелета. \n",
    "3. Список  аномалий  (если  есть)  и  их  объяснение."
   ]
  },
  {
   "cell_type": "code",
   "execution_count": 2,
   "metadata": {
    "id": "zfhOI157BJeJ"
   },
   "outputs": [],
   "source": [
    "df = pd.read_csv('test_task_min.csv', sep=';')"
   ]
  },
  {
   "cell_type": "markdown",
   "metadata": {},
   "source": [
    "Посмотрим на первые пять строк нашей исходной таблицы:"
   ]
  },
  {
   "cell_type": "code",
   "execution_count": 3,
   "metadata": {
    "colab": {
     "base_uri": "https://localhost:8080/",
     "height": 206
    },
    "id": "sP_EGeUSBRLY",
    "outputId": "f617bc94-ffcb-4dfe-8c16-0d94c6b0c06b"
   },
   "outputs": [
    {
     "data": {
      "text/html": [
       "<div>\n",
       "<style scoped>\n",
       "    .dataframe tbody tr th:only-of-type {\n",
       "        vertical-align: middle;\n",
       "    }\n",
       "\n",
       "    .dataframe tbody tr th {\n",
       "        vertical-align: top;\n",
       "    }\n",
       "\n",
       "    .dataframe thead th {\n",
       "        text-align: right;\n",
       "    }\n",
       "</style>\n",
       "<table border=\"1\" class=\"dataframe\">\n",
       "  <thead>\n",
       "    <tr style=\"text-align: right;\">\n",
       "      <th></th>\n",
       "      <th>departure_code</th>\n",
       "      <th>arrival_code</th>\n",
       "      <th>date</th>\n",
       "      <th>arrival_date</th>\n",
       "      <th>carrier</th>\n",
       "    </tr>\n",
       "  </thead>\n",
       "  <tbody>\n",
       "    <tr>\n",
       "      <th>0</th>\n",
       "      <td>YYZ</td>\n",
       "      <td>YVR</td>\n",
       "      <td>2019-10-30 10:30:00</td>\n",
       "      <td>2019-10-30 12:47:00</td>\n",
       "      <td>AC</td>\n",
       "    </tr>\n",
       "    <tr>\n",
       "      <th>1</th>\n",
       "      <td>SMF</td>\n",
       "      <td>LAX</td>\n",
       "      <td>2020-07-10 11:59:00</td>\n",
       "      <td>2020-07-10 13:27:00</td>\n",
       "      <td>OO</td>\n",
       "    </tr>\n",
       "    <tr>\n",
       "      <th>2</th>\n",
       "      <td>CLE</td>\n",
       "      <td>LAX</td>\n",
       "      <td>2019-03-25 18:20:00</td>\n",
       "      <td>2019-03-25 20:30:00</td>\n",
       "      <td>UA</td>\n",
       "    </tr>\n",
       "    <tr>\n",
       "      <th>3</th>\n",
       "      <td>BDL</td>\n",
       "      <td>ORD</td>\n",
       "      <td>2019-06-29 07:30:00</td>\n",
       "      <td>2019-06-29 09:03:00</td>\n",
       "      <td>UA</td>\n",
       "    </tr>\n",
       "    <tr>\n",
       "      <th>4</th>\n",
       "      <td>LAX</td>\n",
       "      <td>BOG</td>\n",
       "      <td>2018-11-16 19:10:00</td>\n",
       "      <td>2018-11-17 05:25:00</td>\n",
       "      <td>AV</td>\n",
       "    </tr>\n",
       "  </tbody>\n",
       "</table>\n",
       "</div>"
      ],
      "text/plain": [
       "  departure_code arrival_code                 date         arrival_date  \\\n",
       "0            YYZ          YVR  2019-10-30 10:30:00  2019-10-30 12:47:00   \n",
       "1            SMF          LAX  2020-07-10 11:59:00  2020-07-10 13:27:00   \n",
       "2            CLE          LAX  2019-03-25 18:20:00  2019-03-25 20:30:00   \n",
       "3            BDL          ORD  2019-06-29 07:30:00  2019-06-29 09:03:00   \n",
       "4            LAX          BOG  2018-11-16 19:10:00  2018-11-17 05:25:00   \n",
       "\n",
       "  carrier  \n",
       "0      AC  \n",
       "1      OO  \n",
       "2      UA  \n",
       "3      UA  \n",
       "4      AV  "
      ]
     },
     "execution_count": 3,
     "metadata": {},
     "output_type": "execute_result"
    }
   ],
   "source": [
    "df.head()"
   ]
  },
  {
   "cell_type": "code",
   "execution_count": 4,
   "metadata": {
    "colab": {
     "base_uri": "https://localhost:8080/"
    },
    "id": "8JeTsP2ZBY29",
    "outputId": "373d6e7c-54c7-48ba-8ebf-ecd740388126"
   },
   "outputs": [
    {
     "name": "stdout",
     "output_type": "stream",
     "text": [
      "<class 'pandas.core.frame.DataFrame'>\n",
      "RangeIndex: 1000 entries, 0 to 999\n",
      "Data columns (total 5 columns):\n",
      " #   Column          Non-Null Count  Dtype \n",
      "---  ------          --------------  ----- \n",
      " 0   departure_code  1000 non-null   object\n",
      " 1   arrival_code    1000 non-null   object\n",
      " 2   date            1000 non-null   object\n",
      " 3   arrival_date    1000 non-null   object\n",
      " 4   carrier         1000 non-null   object\n",
      "dtypes: object(5)\n",
      "memory usage: 39.2+ KB\n"
     ]
    }
   ],
   "source": [
    "df.info()"
   ]
  },
  {
   "cell_type": "code",
   "execution_count": 5,
   "metadata": {
    "colab": {
     "base_uri": "https://localhost:8080/"
    },
    "id": "YugrKL8MBbQl",
    "outputId": "47cc9710-a002-47f6-de0f-4f62ef301bc0"
   },
   "outputs": [
    {
     "data": {
      "text/plain": [
       "1"
      ]
     },
     "execution_count": 5,
     "metadata": {},
     "output_type": "execute_result"
    }
   ],
   "source": [
    "df.duplicated().sum()"
   ]
  },
  {
   "cell_type": "markdown",
   "metadata": {},
   "source": [
    "Удалим дубликаты:"
   ]
  },
  {
   "cell_type": "code",
   "execution_count": 6,
   "metadata": {
    "id": "drS5YkIEBe01"
   },
   "outputs": [],
   "source": [
    "df.drop_duplicates(inplace=True)"
   ]
  },
  {
   "cell_type": "markdown",
   "metadata": {},
   "source": [
    "Приведем столбцы с датами к соответствующему типу:"
   ]
  },
  {
   "cell_type": "code",
   "execution_count": 8,
   "metadata": {
    "id": "zqyEz3MiCKjj"
   },
   "outputs": [],
   "source": [
    "df['date'] = pd.to_datetime(df['date'])\n",
    "df['arrival_date'] = pd.to_datetime(df['arrival_date'])"
   ]
  },
  {
   "cell_type": "markdown",
   "metadata": {
    "id": "fVFk99osg78M"
   },
   "source": [
    "Возьмем дополнительную таблицу с аэропортами"
   ]
  },
  {
   "cell_type": "code",
   "execution_count": 9,
   "metadata": {
    "id": "zrhBDV-yJKE3"
   },
   "outputs": [],
   "source": [
    "airports = pd.read_csv('https://query.data.world/s/diinfedngz2ebb3jxugjdxw6cxpqqv')"
   ]
  },
  {
   "cell_type": "code",
   "execution_count": 10,
   "metadata": {
    "colab": {
     "base_uri": "https://localhost:8080/",
     "height": 354
    },
    "id": "11iJlUQPJKJT",
    "outputId": "db210efb-b635-4fac-c77b-281814c97d7f"
   },
   "outputs": [
    {
     "data": {
      "text/html": [
       "<div>\n",
       "<style scoped>\n",
       "    .dataframe tbody tr th:only-of-type {\n",
       "        vertical-align: middle;\n",
       "    }\n",
       "\n",
       "    .dataframe tbody tr th {\n",
       "        vertical-align: top;\n",
       "    }\n",
       "\n",
       "    .dataframe thead th {\n",
       "        text-align: right;\n",
       "    }\n",
       "</style>\n",
       "<table border=\"1\" class=\"dataframe\">\n",
       "  <thead>\n",
       "    <tr style=\"text-align: right;\">\n",
       "      <th></th>\n",
       "      <th>Airport ID</th>\n",
       "      <th>Name</th>\n",
       "      <th>City</th>\n",
       "      <th>Country</th>\n",
       "      <th>IATA</th>\n",
       "      <th>ICAO</th>\n",
       "      <th>Latitude</th>\n",
       "      <th>Longitude</th>\n",
       "      <th>Altitude</th>\n",
       "      <th>Timezone</th>\n",
       "      <th>DST</th>\n",
       "      <th>Tz database time zone</th>\n",
       "      <th>Type</th>\n",
       "      <th>Source</th>\n",
       "    </tr>\n",
       "  </thead>\n",
       "  <tbody>\n",
       "    <tr>\n",
       "      <th>0</th>\n",
       "      <td>1</td>\n",
       "      <td>Goroka Airport</td>\n",
       "      <td>Goroka</td>\n",
       "      <td>Papua New Guinea</td>\n",
       "      <td>GKA</td>\n",
       "      <td>AYGA</td>\n",
       "      <td>-6.081690</td>\n",
       "      <td>145.391998</td>\n",
       "      <td>5282</td>\n",
       "      <td>10</td>\n",
       "      <td>U</td>\n",
       "      <td>Pacific/Port_Moresby</td>\n",
       "      <td>airport</td>\n",
       "      <td>OurAirports</td>\n",
       "    </tr>\n",
       "    <tr>\n",
       "      <th>1</th>\n",
       "      <td>2</td>\n",
       "      <td>Madang Airport</td>\n",
       "      <td>Madang</td>\n",
       "      <td>Papua New Guinea</td>\n",
       "      <td>MAG</td>\n",
       "      <td>AYMD</td>\n",
       "      <td>-5.207080</td>\n",
       "      <td>145.789001</td>\n",
       "      <td>20</td>\n",
       "      <td>10</td>\n",
       "      <td>U</td>\n",
       "      <td>Pacific/Port_Moresby</td>\n",
       "      <td>airport</td>\n",
       "      <td>OurAirports</td>\n",
       "    </tr>\n",
       "    <tr>\n",
       "      <th>2</th>\n",
       "      <td>3</td>\n",
       "      <td>Mount Hagen Kagamuga Airport</td>\n",
       "      <td>Mount Hagen</td>\n",
       "      <td>Papua New Guinea</td>\n",
       "      <td>HGU</td>\n",
       "      <td>AYMH</td>\n",
       "      <td>-5.826790</td>\n",
       "      <td>144.296005</td>\n",
       "      <td>5388</td>\n",
       "      <td>10</td>\n",
       "      <td>U</td>\n",
       "      <td>Pacific/Port_Moresby</td>\n",
       "      <td>airport</td>\n",
       "      <td>OurAirports</td>\n",
       "    </tr>\n",
       "    <tr>\n",
       "      <th>3</th>\n",
       "      <td>4</td>\n",
       "      <td>Nadzab Airport</td>\n",
       "      <td>Nadzab</td>\n",
       "      <td>Papua New Guinea</td>\n",
       "      <td>LAE</td>\n",
       "      <td>AYNZ</td>\n",
       "      <td>-6.569803</td>\n",
       "      <td>146.725977</td>\n",
       "      <td>239</td>\n",
       "      <td>10</td>\n",
       "      <td>U</td>\n",
       "      <td>Pacific/Port_Moresby</td>\n",
       "      <td>airport</td>\n",
       "      <td>OurAirports</td>\n",
       "    </tr>\n",
       "    <tr>\n",
       "      <th>4</th>\n",
       "      <td>5</td>\n",
       "      <td>Port Moresby Jacksons International Airport</td>\n",
       "      <td>Port Moresby</td>\n",
       "      <td>Papua New Guinea</td>\n",
       "      <td>POM</td>\n",
       "      <td>AYPY</td>\n",
       "      <td>-9.443380</td>\n",
       "      <td>147.220001</td>\n",
       "      <td>146</td>\n",
       "      <td>10</td>\n",
       "      <td>U</td>\n",
       "      <td>Pacific/Port_Moresby</td>\n",
       "      <td>airport</td>\n",
       "      <td>OurAirports</td>\n",
       "    </tr>\n",
       "  </tbody>\n",
       "</table>\n",
       "</div>"
      ],
      "text/plain": [
       "   Airport ID                                         Name          City  \\\n",
       "0           1                               Goroka Airport        Goroka   \n",
       "1           2                               Madang Airport        Madang   \n",
       "2           3                 Mount Hagen Kagamuga Airport   Mount Hagen   \n",
       "3           4                               Nadzab Airport        Nadzab   \n",
       "4           5  Port Moresby Jacksons International Airport  Port Moresby   \n",
       "\n",
       "            Country IATA  ICAO  Latitude   Longitude  Altitude Timezone DST  \\\n",
       "0  Papua New Guinea  GKA  AYGA -6.081690  145.391998      5282       10   U   \n",
       "1  Papua New Guinea  MAG  AYMD -5.207080  145.789001        20       10   U   \n",
       "2  Papua New Guinea  HGU  AYMH -5.826790  144.296005      5388       10   U   \n",
       "3  Papua New Guinea  LAE  AYNZ -6.569803  146.725977       239       10   U   \n",
       "4  Papua New Guinea  POM  AYPY -9.443380  147.220001       146       10   U   \n",
       "\n",
       "  Tz database time zone     Type       Source  \n",
       "0  Pacific/Port_Moresby  airport  OurAirports  \n",
       "1  Pacific/Port_Moresby  airport  OurAirports  \n",
       "2  Pacific/Port_Moresby  airport  OurAirports  \n",
       "3  Pacific/Port_Moresby  airport  OurAirports  \n",
       "4  Pacific/Port_Moresby  airport  OurAirports  "
      ]
     },
     "execution_count": 10,
     "metadata": {},
     "output_type": "execute_result"
    }
   ],
   "source": [
    "airports.head()"
   ]
  },
  {
   "cell_type": "code",
   "execution_count": 11,
   "metadata": {
    "colab": {
     "base_uri": "https://localhost:8080/"
    },
    "id": "NwKyPF_UUqwB",
    "outputId": "e4b0f82a-e40d-404f-840e-f4b76ab2cc39"
   },
   "outputs": [
    {
     "name": "stdout",
     "output_type": "stream",
     "text": [
      "<class 'pandas.core.frame.DataFrame'>\n",
      "RangeIndex: 7698 entries, 0 to 7697\n",
      "Data columns (total 14 columns):\n",
      " #   Column                 Non-Null Count  Dtype  \n",
      "---  ------                 --------------  -----  \n",
      " 0   Airport ID             7698 non-null   int64  \n",
      " 1   Name                   7698 non-null   object \n",
      " 2   City                   7649 non-null   object \n",
      " 3   Country                7698 non-null   object \n",
      " 4   IATA                   7698 non-null   object \n",
      " 5   ICAO                   7698 non-null   object \n",
      " 6   Latitude               7698 non-null   float64\n",
      " 7   Longitude              7698 non-null   float64\n",
      " 8   Altitude               7698 non-null   int64  \n",
      " 9   Timezone               7698 non-null   object \n",
      " 10  DST                    7698 non-null   object \n",
      " 11  Tz database time zone  7698 non-null   object \n",
      " 12  Type                   7698 non-null   object \n",
      " 13  Source                 7698 non-null   object \n",
      "dtypes: float64(2), int64(2), object(10)\n",
      "memory usage: 842.1+ KB\n"
     ]
    }
   ],
   "source": [
    "airports.info()"
   ]
  },
  {
   "cell_type": "code",
   "execution_count": 12,
   "metadata": {
    "id": "ZL_Lderq7zDX"
   },
   "outputs": [],
   "source": [
    "df_airports = airports[['IATA','Tz database time zone']]"
   ]
  },
  {
   "cell_type": "code",
   "execution_count": 13,
   "metadata": {
    "colab": {
     "base_uri": "https://localhost:8080/",
     "height": 206
    },
    "id": "aLjEZUoi8VsG",
    "outputId": "4be3b523-0849-429f-c3c9-dfcf3f821fc9"
   },
   "outputs": [
    {
     "data": {
      "text/html": [
       "<div>\n",
       "<style scoped>\n",
       "    .dataframe tbody tr th:only-of-type {\n",
       "        vertical-align: middle;\n",
       "    }\n",
       "\n",
       "    .dataframe tbody tr th {\n",
       "        vertical-align: top;\n",
       "    }\n",
       "\n",
       "    .dataframe thead th {\n",
       "        text-align: right;\n",
       "    }\n",
       "</style>\n",
       "<table border=\"1\" class=\"dataframe\">\n",
       "  <thead>\n",
       "    <tr style=\"text-align: right;\">\n",
       "      <th></th>\n",
       "      <th>IATA</th>\n",
       "      <th>Tz database time zone</th>\n",
       "    </tr>\n",
       "  </thead>\n",
       "  <tbody>\n",
       "    <tr>\n",
       "      <th>0</th>\n",
       "      <td>GKA</td>\n",
       "      <td>Pacific/Port_Moresby</td>\n",
       "    </tr>\n",
       "    <tr>\n",
       "      <th>1</th>\n",
       "      <td>MAG</td>\n",
       "      <td>Pacific/Port_Moresby</td>\n",
       "    </tr>\n",
       "    <tr>\n",
       "      <th>2</th>\n",
       "      <td>HGU</td>\n",
       "      <td>Pacific/Port_Moresby</td>\n",
       "    </tr>\n",
       "    <tr>\n",
       "      <th>3</th>\n",
       "      <td>LAE</td>\n",
       "      <td>Pacific/Port_Moresby</td>\n",
       "    </tr>\n",
       "    <tr>\n",
       "      <th>4</th>\n",
       "      <td>POM</td>\n",
       "      <td>Pacific/Port_Moresby</td>\n",
       "    </tr>\n",
       "  </tbody>\n",
       "</table>\n",
       "</div>"
      ],
      "text/plain": [
       "  IATA Tz database time zone\n",
       "0  GKA  Pacific/Port_Moresby\n",
       "1  MAG  Pacific/Port_Moresby\n",
       "2  HGU  Pacific/Port_Moresby\n",
       "3  LAE  Pacific/Port_Moresby\n",
       "4  POM  Pacific/Port_Moresby"
      ]
     },
     "execution_count": 13,
     "metadata": {},
     "output_type": "execute_result"
    }
   ],
   "source": [
    "df_airports.head()"
   ]
  },
  {
   "cell_type": "markdown",
   "metadata": {
    "id": "O1tUN7y7hB8h"
   },
   "source": [
    "Добавим к нашим данным временную зону, чтобы потом использовать ее для расчета времени по utc"
   ]
  },
  {
   "cell_type": "code",
   "execution_count": 15,
   "metadata": {
    "id": "wvBpxsXn8Xe6"
   },
   "outputs": [],
   "source": [
    "df = df.merge(df_airports, how='left', left_on='departure_code', right_on='IATA') \\\n",
    "  .rename(columns={'Tz database time zone': 'departure_time_zone'}) \\\n",
    "  .drop(columns = ['IATA'],axis = 1) \\\n",
    "  .merge(df_airports, how='left', left_on='arrival_code', right_on='IATA') \\\n",
    "  .rename(columns={'Tz database time zone': 'arrival_time_zone'}) \\\n",
    "  .drop(columns = ['IATA'],axis = 1)"
   ]
  },
  {
   "cell_type": "code",
   "execution_count": 16,
   "metadata": {
    "colab": {
     "base_uri": "https://localhost:8080/",
     "height": 206
    },
    "id": "v8C3eonvVW-3",
    "outputId": "c46779d6-c214-418b-8b9e-04173b6be703"
   },
   "outputs": [
    {
     "data": {
      "text/html": [
       "<div>\n",
       "<style scoped>\n",
       "    .dataframe tbody tr th:only-of-type {\n",
       "        vertical-align: middle;\n",
       "    }\n",
       "\n",
       "    .dataframe tbody tr th {\n",
       "        vertical-align: top;\n",
       "    }\n",
       "\n",
       "    .dataframe thead th {\n",
       "        text-align: right;\n",
       "    }\n",
       "</style>\n",
       "<table border=\"1\" class=\"dataframe\">\n",
       "  <thead>\n",
       "    <tr style=\"text-align: right;\">\n",
       "      <th></th>\n",
       "      <th>departure_code</th>\n",
       "      <th>arrival_code</th>\n",
       "      <th>date</th>\n",
       "      <th>arrival_date</th>\n",
       "      <th>carrier</th>\n",
       "      <th>departure_time_zone</th>\n",
       "      <th>arrival_time_zone</th>\n",
       "    </tr>\n",
       "  </thead>\n",
       "  <tbody>\n",
       "    <tr>\n",
       "      <th>0</th>\n",
       "      <td>YYZ</td>\n",
       "      <td>YVR</td>\n",
       "      <td>2019-10-30 10:30:00</td>\n",
       "      <td>2019-10-30 12:47:00</td>\n",
       "      <td>AC</td>\n",
       "      <td>America/Toronto</td>\n",
       "      <td>America/Vancouver</td>\n",
       "    </tr>\n",
       "    <tr>\n",
       "      <th>1</th>\n",
       "      <td>SMF</td>\n",
       "      <td>LAX</td>\n",
       "      <td>2020-07-10 11:59:00</td>\n",
       "      <td>2020-07-10 13:27:00</td>\n",
       "      <td>OO</td>\n",
       "      <td>America/Los_Angeles</td>\n",
       "      <td>America/Los_Angeles</td>\n",
       "    </tr>\n",
       "    <tr>\n",
       "      <th>2</th>\n",
       "      <td>CLE</td>\n",
       "      <td>LAX</td>\n",
       "      <td>2019-03-25 18:20:00</td>\n",
       "      <td>2019-03-25 20:30:00</td>\n",
       "      <td>UA</td>\n",
       "      <td>America/New_York</td>\n",
       "      <td>America/Los_Angeles</td>\n",
       "    </tr>\n",
       "    <tr>\n",
       "      <th>3</th>\n",
       "      <td>BDL</td>\n",
       "      <td>ORD</td>\n",
       "      <td>2019-06-29 07:30:00</td>\n",
       "      <td>2019-06-29 09:03:00</td>\n",
       "      <td>UA</td>\n",
       "      <td>America/New_York</td>\n",
       "      <td>America/Chicago</td>\n",
       "    </tr>\n",
       "    <tr>\n",
       "      <th>4</th>\n",
       "      <td>LAX</td>\n",
       "      <td>BOG</td>\n",
       "      <td>2018-11-16 19:10:00</td>\n",
       "      <td>2018-11-17 05:25:00</td>\n",
       "      <td>AV</td>\n",
       "      <td>America/Los_Angeles</td>\n",
       "      <td>America/Bogota</td>\n",
       "    </tr>\n",
       "  </tbody>\n",
       "</table>\n",
       "</div>"
      ],
      "text/plain": [
       "  departure_code arrival_code                date        arrival_date carrier  \\\n",
       "0            YYZ          YVR 2019-10-30 10:30:00 2019-10-30 12:47:00      AC   \n",
       "1            SMF          LAX 2020-07-10 11:59:00 2020-07-10 13:27:00      OO   \n",
       "2            CLE          LAX 2019-03-25 18:20:00 2019-03-25 20:30:00      UA   \n",
       "3            BDL          ORD 2019-06-29 07:30:00 2019-06-29 09:03:00      UA   \n",
       "4            LAX          BOG 2018-11-16 19:10:00 2018-11-17 05:25:00      AV   \n",
       "\n",
       "   departure_time_zone    arrival_time_zone  \n",
       "0      America/Toronto    America/Vancouver  \n",
       "1  America/Los_Angeles  America/Los_Angeles  \n",
       "2     America/New_York  America/Los_Angeles  \n",
       "3     America/New_York      America/Chicago  \n",
       "4  America/Los_Angeles       America/Bogota  "
      ]
     },
     "execution_count": 16,
     "metadata": {},
     "output_type": "execute_result"
    }
   ],
   "source": [
    "df.head()"
   ]
  },
  {
   "cell_type": "code",
   "execution_count": 18,
   "metadata": {
    "colab": {
     "base_uri": "https://localhost:8080/"
    },
    "id": "wr9Lc69EJW6A",
    "outputId": "174b2bb9-9a65-41b4-d51f-5d24c52fb460"
   },
   "outputs": [
    {
     "data": {
      "text/plain": [
       "array(['America/Toronto', 'America/Los_Angeles', 'America/New_York',\n",
       "       'America/Denver', 'America/Chicago', 'Europe/London',\n",
       "       'Europe/Amsterdam', 'Asia/Tokyo', 'Europe/Lisbon',\n",
       "       'America/Phoenix', 'Asia/Dubai', 'America/Mexico_City',\n",
       "       'Asia/Kuwait', 'America/Puerto_Rico', 'America/Winnipeg',\n",
       "       'America/Anchorage', 'Pacific/Honolulu', 'Europe/Copenhagen',\n",
       "       'Europe/Zurich', 'Europe/Berlin', 'Europe/Tallinn',\n",
       "       'America/Buenos_Aires', 'Asia/Taipei', 'Asia/Hong_Kong',\n",
       "       'Europe/Stockholm', 'America/Sao_Paulo', 'Europe/Madrid',\n",
       "       'America/Bogota', '\\\\N', 'Australia/Sydney', 'Europe/Paris',\n",
       "       'America/Edmonton', 'America/Santiago', 'America/Port_of_Spain',\n",
       "       'America/Cancun', 'Asia/Manila', 'America/Mazatlan',\n",
       "       'America/Guatemala', 'Asia/Bahrain', 'America/Curacao',\n",
       "       'Africa/Maputo', 'America/Vancouver', 'America/Panama',\n",
       "       'Europe/Helsinki', 'Australia/Brisbane', 'Asia/Shanghai',\n",
       "       'America/El_Salvador', 'Africa/Johannesburg', 'Africa/Casablanca',\n",
       "       'Europe/Zagreb', 'Asia/Seoul', 'Atlantic/Reykjavik',\n",
       "       'Asia/Calcutta', 'Africa/Windhoek', 'Asia/Macau', 'America/Belize',\n",
       "       'Europe/Rome', 'Pacific/Guam', 'Pacific/Auckland',\n",
       "       'Europe/Brussels'], dtype=object)"
      ]
     },
     "execution_count": 18,
     "metadata": {},
     "output_type": "execute_result"
    }
   ],
   "source": [
    "df['departure_time_zone'].unique()"
   ]
  },
  {
   "cell_type": "markdown",
   "metadata": {
    "id": "23s203ZYhL7W"
   },
   "source": [
    "В данных есть пропущенные значения, посмотрим на них внимательнее"
   ]
  },
  {
   "cell_type": "code",
   "execution_count": 19,
   "metadata": {
    "colab": {
     "base_uri": "https://localhost:8080/",
     "height": 206
    },
    "id": "QAiFKsnuM9s-",
    "outputId": "28b7b5d2-2d46-4607-ab54-072b2665a2a7"
   },
   "outputs": [
    {
     "data": {
      "text/html": [
       "<div>\n",
       "<style scoped>\n",
       "    .dataframe tbody tr th:only-of-type {\n",
       "        vertical-align: middle;\n",
       "    }\n",
       "\n",
       "    .dataframe tbody tr th {\n",
       "        vertical-align: top;\n",
       "    }\n",
       "\n",
       "    .dataframe thead th {\n",
       "        text-align: right;\n",
       "    }\n",
       "</style>\n",
       "<table border=\"1\" class=\"dataframe\">\n",
       "  <thead>\n",
       "    <tr style=\"text-align: right;\">\n",
       "      <th></th>\n",
       "      <th>departure_code</th>\n",
       "      <th>arrival_code</th>\n",
       "      <th>date</th>\n",
       "      <th>arrival_date</th>\n",
       "      <th>carrier</th>\n",
       "      <th>departure_time_zone</th>\n",
       "      <th>arrival_time_zone</th>\n",
       "    </tr>\n",
       "  </thead>\n",
       "  <tbody>\n",
       "    <tr>\n",
       "      <th>224</th>\n",
       "      <td>IST</td>\n",
       "      <td>MUC</td>\n",
       "      <td>2018-12-02 08:20:00</td>\n",
       "      <td>2018-12-02 09:10:00</td>\n",
       "      <td>UA</td>\n",
       "      <td>\\N</td>\n",
       "      <td>Europe/Berlin</td>\n",
       "    </tr>\n",
       "    <tr>\n",
       "      <th>589</th>\n",
       "      <td>DOH</td>\n",
       "      <td>BKK</td>\n",
       "      <td>2018-04-02 20:35:00</td>\n",
       "      <td>2018-04-03 07:05:00</td>\n",
       "      <td>QR</td>\n",
       "      <td>\\N</td>\n",
       "      <td>Asia/Bangkok</td>\n",
       "    </tr>\n",
       "    <tr>\n",
       "      <th>818</th>\n",
       "      <td>DOH</td>\n",
       "      <td>HYD</td>\n",
       "      <td>2019-06-18 19:10:00</td>\n",
       "      <td>2019-06-19 01:50:00</td>\n",
       "      <td>QR</td>\n",
       "      <td>\\N</td>\n",
       "      <td>\\N</td>\n",
       "    </tr>\n",
       "    <tr>\n",
       "      <th>852</th>\n",
       "      <td>DOH</td>\n",
       "      <td>CMB</td>\n",
       "      <td>2019-06-16 18:05:00</td>\n",
       "      <td>2019-06-17 01:45:00</td>\n",
       "      <td>QR</td>\n",
       "      <td>\\N</td>\n",
       "      <td>Asia/Colombo</td>\n",
       "    </tr>\n",
       "    <tr>\n",
       "      <th>993</th>\n",
       "      <td>IST</td>\n",
       "      <td>IAD</td>\n",
       "      <td>2019-06-18 14:55:00</td>\n",
       "      <td>2019-07-18 19:30:00</td>\n",
       "      <td>TK</td>\n",
       "      <td>\\N</td>\n",
       "      <td>America/New_York</td>\n",
       "    </tr>\n",
       "  </tbody>\n",
       "</table>\n",
       "</div>"
      ],
      "text/plain": [
       "    departure_code arrival_code                date        arrival_date  \\\n",
       "224            IST          MUC 2018-12-02 08:20:00 2018-12-02 09:10:00   \n",
       "589            DOH          BKK 2018-04-02 20:35:00 2018-04-03 07:05:00   \n",
       "818            DOH          HYD 2019-06-18 19:10:00 2019-06-19 01:50:00   \n",
       "852            DOH          CMB 2019-06-16 18:05:00 2019-06-17 01:45:00   \n",
       "993            IST          IAD 2019-06-18 14:55:00 2019-07-18 19:30:00   \n",
       "\n",
       "    carrier departure_time_zone arrival_time_zone  \n",
       "224      UA                  \\N     Europe/Berlin  \n",
       "589      QR                  \\N      Asia/Bangkok  \n",
       "818      QR                  \\N                \\N  \n",
       "852      QR                  \\N      Asia/Colombo  \n",
       "993      TK                  \\N  America/New_York  "
      ]
     },
     "execution_count": 19,
     "metadata": {},
     "output_type": "execute_result"
    }
   ],
   "source": [
    "df.query('departure_time_zone == r\"\\\\N\"')"
   ]
  },
  {
   "cell_type": "code",
   "execution_count": 20,
   "metadata": {
    "colab": {
     "base_uri": "https://localhost:8080/",
     "height": 206
    },
    "id": "1UDSFlGIVvDA",
    "outputId": "24f56109-d120-45da-9c1a-192fa00f4c9b"
   },
   "outputs": [
    {
     "data": {
      "text/html": [
       "<div>\n",
       "<style scoped>\n",
       "    .dataframe tbody tr th:only-of-type {\n",
       "        vertical-align: middle;\n",
       "    }\n",
       "\n",
       "    .dataframe tbody tr th {\n",
       "        vertical-align: top;\n",
       "    }\n",
       "\n",
       "    .dataframe thead th {\n",
       "        text-align: right;\n",
       "    }\n",
       "</style>\n",
       "<table border=\"1\" class=\"dataframe\">\n",
       "  <thead>\n",
       "    <tr style=\"text-align: right;\">\n",
       "      <th></th>\n",
       "      <th>departure_code</th>\n",
       "      <th>arrival_code</th>\n",
       "      <th>date</th>\n",
       "      <th>arrival_date</th>\n",
       "      <th>carrier</th>\n",
       "      <th>departure_time_zone</th>\n",
       "      <th>arrival_time_zone</th>\n",
       "    </tr>\n",
       "  </thead>\n",
       "  <tbody>\n",
       "    <tr>\n",
       "      <th>36</th>\n",
       "      <td>KWI</td>\n",
       "      <td>DOH</td>\n",
       "      <td>2018-05-30 05:15:00</td>\n",
       "      <td>2018-05-30 06:40:00</td>\n",
       "      <td>QR</td>\n",
       "      <td>Asia/Kuwait</td>\n",
       "      <td>\\N</td>\n",
       "    </tr>\n",
       "    <tr>\n",
       "      <th>304</th>\n",
       "      <td>JFK</td>\n",
       "      <td>DOH</td>\n",
       "      <td>2018-08-03 21:00:00</td>\n",
       "      <td>2018-08-04 16:25:00</td>\n",
       "      <td>QR</td>\n",
       "      <td>America/New_York</td>\n",
       "      <td>\\N</td>\n",
       "    </tr>\n",
       "    <tr>\n",
       "      <th>578</th>\n",
       "      <td>JFK</td>\n",
       "      <td>DOH</td>\n",
       "      <td>2018-11-16 21:00:00</td>\n",
       "      <td>2018-11-17 17:40:00</td>\n",
       "      <td>QR</td>\n",
       "      <td>America/New_York</td>\n",
       "      <td>\\N</td>\n",
       "    </tr>\n",
       "    <tr>\n",
       "      <th>696</th>\n",
       "      <td>JFK</td>\n",
       "      <td>DOH</td>\n",
       "      <td>2018-02-21 21:05:00</td>\n",
       "      <td>2018-02-22 17:35:00</td>\n",
       "      <td>QR</td>\n",
       "      <td>America/New_York</td>\n",
       "      <td>\\N</td>\n",
       "    </tr>\n",
       "    <tr>\n",
       "      <th>818</th>\n",
       "      <td>DOH</td>\n",
       "      <td>HYD</td>\n",
       "      <td>2019-06-18 19:10:00</td>\n",
       "      <td>2019-06-19 01:50:00</td>\n",
       "      <td>QR</td>\n",
       "      <td>\\N</td>\n",
       "      <td>\\N</td>\n",
       "    </tr>\n",
       "  </tbody>\n",
       "</table>\n",
       "</div>"
      ],
      "text/plain": [
       "    departure_code arrival_code                date        arrival_date  \\\n",
       "36             KWI          DOH 2018-05-30 05:15:00 2018-05-30 06:40:00   \n",
       "304            JFK          DOH 2018-08-03 21:00:00 2018-08-04 16:25:00   \n",
       "578            JFK          DOH 2018-11-16 21:00:00 2018-11-17 17:40:00   \n",
       "696            JFK          DOH 2018-02-21 21:05:00 2018-02-22 17:35:00   \n",
       "818            DOH          HYD 2019-06-18 19:10:00 2019-06-19 01:50:00   \n",
       "\n",
       "    carrier departure_time_zone arrival_time_zone  \n",
       "36       QR         Asia/Kuwait                \\N  \n",
       "304      QR    America/New_York                \\N  \n",
       "578      QR    America/New_York                \\N  \n",
       "696      QR    America/New_York                \\N  \n",
       "818      QR                  \\N                \\N  "
      ]
     },
     "execution_count": 20,
     "metadata": {},
     "output_type": "execute_result"
    }
   ],
   "source": [
    "df.query('arrival_time_zone == r\"\\\\N\"')"
   ]
  },
  {
   "cell_type": "markdown",
   "metadata": {
    "id": "QV9JuqKahQv3"
   },
   "source": [
    "Необходимо заменить нулевые значения соответствующими"
   ]
  },
  {
   "cell_type": "code",
   "execution_count": 21,
   "metadata": {
    "colab": {
     "base_uri": "https://localhost:8080/",
     "height": 222
    },
    "id": "k_kPbVLMV2Rg",
    "outputId": "b5204d48-a018-48a5-9d5f-ee0c0378b834"
   },
   "outputs": [
    {
     "data": {
      "text/html": [
       "<div>\n",
       "<style scoped>\n",
       "    .dataframe tbody tr th:only-of-type {\n",
       "        vertical-align: middle;\n",
       "    }\n",
       "\n",
       "    .dataframe tbody tr th {\n",
       "        vertical-align: top;\n",
       "    }\n",
       "\n",
       "    .dataframe thead th {\n",
       "        text-align: right;\n",
       "    }\n",
       "</style>\n",
       "<table border=\"1\" class=\"dataframe\">\n",
       "  <thead>\n",
       "    <tr style=\"text-align: right;\">\n",
       "      <th></th>\n",
       "      <th>Airport ID</th>\n",
       "      <th>Name</th>\n",
       "      <th>City</th>\n",
       "      <th>Country</th>\n",
       "      <th>IATA</th>\n",
       "      <th>ICAO</th>\n",
       "      <th>Latitude</th>\n",
       "      <th>Longitude</th>\n",
       "      <th>Altitude</th>\n",
       "      <th>Timezone</th>\n",
       "      <th>DST</th>\n",
       "      <th>Tz database time zone</th>\n",
       "      <th>Type</th>\n",
       "      <th>Source</th>\n",
       "    </tr>\n",
       "  </thead>\n",
       "  <tbody>\n",
       "    <tr>\n",
       "      <th>6827</th>\n",
       "      <td>11051</td>\n",
       "      <td>Hamad International Airport</td>\n",
       "      <td>Doha</td>\n",
       "      <td>Qatar</td>\n",
       "      <td>DOH</td>\n",
       "      <td>OTHH</td>\n",
       "      <td>25.273056</td>\n",
       "      <td>51.608056</td>\n",
       "      <td>13</td>\n",
       "      <td>3</td>\n",
       "      <td>N</td>\n",
       "      <td>\\N</td>\n",
       "      <td>airport</td>\n",
       "      <td>OurAirports</td>\n",
       "    </tr>\n",
       "    <tr>\n",
       "      <th>7298</th>\n",
       "      <td>12087</td>\n",
       "      <td>Rajiv Gandhi International Airport</td>\n",
       "      <td>Hyderabad</td>\n",
       "      <td>India</td>\n",
       "      <td>HYD</td>\n",
       "      <td>VOHS</td>\n",
       "      <td>17.231318</td>\n",
       "      <td>78.429855</td>\n",
       "      <td>2024</td>\n",
       "      <td>5.5</td>\n",
       "      <td>N</td>\n",
       "      <td>\\N</td>\n",
       "      <td>airport</td>\n",
       "      <td>OurAirports</td>\n",
       "    </tr>\n",
       "    <tr>\n",
       "      <th>7629</th>\n",
       "      <td>13696</td>\n",
       "      <td>Istanbul Airport</td>\n",
       "      <td>Istanbul</td>\n",
       "      <td>Turkey</td>\n",
       "      <td>IST</td>\n",
       "      <td>LTFM</td>\n",
       "      <td>41.275278</td>\n",
       "      <td>28.751944</td>\n",
       "      <td>325</td>\n",
       "      <td>3</td>\n",
       "      <td>E</td>\n",
       "      <td>\\N</td>\n",
       "      <td>airport</td>\n",
       "      <td>OurAirports</td>\n",
       "    </tr>\n",
       "  </tbody>\n",
       "</table>\n",
       "</div>"
      ],
      "text/plain": [
       "      Airport ID                                Name       City Country IATA  \\\n",
       "6827       11051         Hamad International Airport       Doha   Qatar  DOH   \n",
       "7298       12087  Rajiv Gandhi International Airport  Hyderabad   India  HYD   \n",
       "7629       13696                    Istanbul Airport   Istanbul  Turkey  IST   \n",
       "\n",
       "      ICAO   Latitude  Longitude  Altitude Timezone DST Tz database time zone  \\\n",
       "6827  OTHH  25.273056  51.608056        13        3   N                    \\N   \n",
       "7298  VOHS  17.231318  78.429855      2024      5.5   N                    \\N   \n",
       "7629  LTFM  41.275278  28.751944       325        3   E                    \\N   \n",
       "\n",
       "         Type       Source  \n",
       "6827  airport  OurAirports  \n",
       "7298  airport  OurAirports  \n",
       "7629  airport  OurAirports  "
      ]
     },
     "execution_count": 21,
     "metadata": {},
     "output_type": "execute_result"
    }
   ],
   "source": [
    "airports.query('IATA == \"IST\" | IATA == \"DOH\" | IATA == \"HYD\"')"
   ]
  },
  {
   "cell_type": "code",
   "execution_count": 22,
   "metadata": {
    "id": "1PqRSj7zXYoF"
   },
   "outputs": [],
   "source": [
    "df.loc[(df.departure_code == 'IST'), 'departure_time_zone'] = 'Turkey'\n",
    "df.loc[(df.departure_code == 'DOH'), 'departure_time_zone'] = 'Asia/Qatar'\n",
    "df.loc[(df.departure_code == 'HYD'), 'departure_time_zone'] = 'Asia/Kolkata'\n",
    "\n",
    "df.loc[(df.arrival_code == 'DOH'), 'arrival_time_zone'] = 'Asia/Qatar'\n",
    "df.loc[(df.arrival_code == 'HYD'), 'arrival_time_zone'] = 'Asia/Kolkata'"
   ]
  },
  {
   "cell_type": "code",
   "execution_count": 23,
   "metadata": {
    "colab": {
     "base_uri": "https://localhost:8080/",
     "height": 206
    },
    "id": "FoZLfUJlSWVU",
    "outputId": "87363811-be56-4361-9cd0-86771e8b3d7f"
   },
   "outputs": [
    {
     "data": {
      "text/html": [
       "<div>\n",
       "<style scoped>\n",
       "    .dataframe tbody tr th:only-of-type {\n",
       "        vertical-align: middle;\n",
       "    }\n",
       "\n",
       "    .dataframe tbody tr th {\n",
       "        vertical-align: top;\n",
       "    }\n",
       "\n",
       "    .dataframe thead th {\n",
       "        text-align: right;\n",
       "    }\n",
       "</style>\n",
       "<table border=\"1\" class=\"dataframe\">\n",
       "  <thead>\n",
       "    <tr style=\"text-align: right;\">\n",
       "      <th></th>\n",
       "      <th>departure_code</th>\n",
       "      <th>arrival_code</th>\n",
       "      <th>date</th>\n",
       "      <th>arrival_date</th>\n",
       "      <th>carrier</th>\n",
       "      <th>departure_time_zone</th>\n",
       "      <th>arrival_time_zone</th>\n",
       "    </tr>\n",
       "  </thead>\n",
       "  <tbody>\n",
       "    <tr>\n",
       "      <th>0</th>\n",
       "      <td>YYZ</td>\n",
       "      <td>YVR</td>\n",
       "      <td>2019-10-30 10:30:00</td>\n",
       "      <td>2019-10-30 12:47:00</td>\n",
       "      <td>AC</td>\n",
       "      <td>America/Toronto</td>\n",
       "      <td>America/Vancouver</td>\n",
       "    </tr>\n",
       "    <tr>\n",
       "      <th>1</th>\n",
       "      <td>SMF</td>\n",
       "      <td>LAX</td>\n",
       "      <td>2020-07-10 11:59:00</td>\n",
       "      <td>2020-07-10 13:27:00</td>\n",
       "      <td>OO</td>\n",
       "      <td>America/Los_Angeles</td>\n",
       "      <td>America/Los_Angeles</td>\n",
       "    </tr>\n",
       "    <tr>\n",
       "      <th>2</th>\n",
       "      <td>CLE</td>\n",
       "      <td>LAX</td>\n",
       "      <td>2019-03-25 18:20:00</td>\n",
       "      <td>2019-03-25 20:30:00</td>\n",
       "      <td>UA</td>\n",
       "      <td>America/New_York</td>\n",
       "      <td>America/Los_Angeles</td>\n",
       "    </tr>\n",
       "    <tr>\n",
       "      <th>3</th>\n",
       "      <td>BDL</td>\n",
       "      <td>ORD</td>\n",
       "      <td>2019-06-29 07:30:00</td>\n",
       "      <td>2019-06-29 09:03:00</td>\n",
       "      <td>UA</td>\n",
       "      <td>America/New_York</td>\n",
       "      <td>America/Chicago</td>\n",
       "    </tr>\n",
       "    <tr>\n",
       "      <th>4</th>\n",
       "      <td>LAX</td>\n",
       "      <td>BOG</td>\n",
       "      <td>2018-11-16 19:10:00</td>\n",
       "      <td>2018-11-17 05:25:00</td>\n",
       "      <td>AV</td>\n",
       "      <td>America/Los_Angeles</td>\n",
       "      <td>America/Bogota</td>\n",
       "    </tr>\n",
       "  </tbody>\n",
       "</table>\n",
       "</div>"
      ],
      "text/plain": [
       "  departure_code arrival_code                date        arrival_date carrier  \\\n",
       "0            YYZ          YVR 2019-10-30 10:30:00 2019-10-30 12:47:00      AC   \n",
       "1            SMF          LAX 2020-07-10 11:59:00 2020-07-10 13:27:00      OO   \n",
       "2            CLE          LAX 2019-03-25 18:20:00 2019-03-25 20:30:00      UA   \n",
       "3            BDL          ORD 2019-06-29 07:30:00 2019-06-29 09:03:00      UA   \n",
       "4            LAX          BOG 2018-11-16 19:10:00 2018-11-17 05:25:00      AV   \n",
       "\n",
       "   departure_time_zone    arrival_time_zone  \n",
       "0      America/Toronto    America/Vancouver  \n",
       "1  America/Los_Angeles  America/Los_Angeles  \n",
       "2     America/New_York  America/Los_Angeles  \n",
       "3     America/New_York      America/Chicago  \n",
       "4  America/Los_Angeles       America/Bogota  "
      ]
     },
     "execution_count": 23,
     "metadata": {},
     "output_type": "execute_result"
    }
   ],
   "source": [
    "df.head()"
   ]
  },
  {
   "cell_type": "markdown",
   "metadata": {
    "id": "T9oQHBa5hX_N"
   },
   "source": [
    "Переводим время к одному виду"
   ]
  },
  {
   "cell_type": "code",
   "execution_count": 24,
   "metadata": {
    "id": "l78peOpMWxn1"
   },
   "outputs": [],
   "source": [
    "def to_utc(d, time_zone):\n",
    "  pst_tz = d.tz_localize(time_zone).tz_convert(None)\n",
    "  return pst_tz"
   ]
  },
  {
   "cell_type": "code",
   "execution_count": 25,
   "metadata": {
    "id": "zYFpflBTZzGT"
   },
   "outputs": [],
   "source": [
    "df['date_utc'] = df.apply(lambda x: to_utc(x['date'], x['departure_time_zone']), axis=1)\n",
    "df['arrival_date_utc'] = df.apply(lambda x: to_utc(x['arrival_date'], x['arrival_time_zone']), axis=1)"
   ]
  },
  {
   "cell_type": "markdown",
   "metadata": {
    "id": "v9KHR3dKhbAc"
   },
   "source": [
    "Рассчитаем длительность перелета"
   ]
  },
  {
   "cell_type": "code",
   "execution_count": 26,
   "metadata": {
    "id": "A_4rZvHGa356"
   },
   "outputs": [],
   "source": [
    "df['delta'] = df['arrival_date_utc'] - df['date_utc']"
   ]
  },
  {
   "cell_type": "code",
   "execution_count": 27,
   "metadata": {
    "colab": {
     "base_uri": "https://localhost:8080/",
     "height": 641
    },
    "id": "ylckpOdBY-zK",
    "outputId": "8ced044d-464d-472a-8e37-e948db88b41b"
   },
   "outputs": [
    {
     "data": {
      "text/html": [
       "<div>\n",
       "<style scoped>\n",
       "    .dataframe tbody tr th:only-of-type {\n",
       "        vertical-align: middle;\n",
       "    }\n",
       "\n",
       "    .dataframe tbody tr th {\n",
       "        vertical-align: top;\n",
       "    }\n",
       "\n",
       "    .dataframe thead th {\n",
       "        text-align: right;\n",
       "    }\n",
       "</style>\n",
       "<table border=\"1\" class=\"dataframe\">\n",
       "  <thead>\n",
       "    <tr style=\"text-align: right;\">\n",
       "      <th></th>\n",
       "      <th>departure_code</th>\n",
       "      <th>arrival_code</th>\n",
       "      <th>date</th>\n",
       "      <th>arrival_date</th>\n",
       "      <th>carrier</th>\n",
       "      <th>departure_time_zone</th>\n",
       "      <th>arrival_time_zone</th>\n",
       "      <th>date_utc</th>\n",
       "      <th>arrival_date_utc</th>\n",
       "      <th>delta</th>\n",
       "    </tr>\n",
       "  </thead>\n",
       "  <tbody>\n",
       "    <tr>\n",
       "      <th>0</th>\n",
       "      <td>YYZ</td>\n",
       "      <td>YVR</td>\n",
       "      <td>2019-10-30 10:30:00</td>\n",
       "      <td>2019-10-30 12:47:00</td>\n",
       "      <td>AC</td>\n",
       "      <td>America/Toronto</td>\n",
       "      <td>America/Vancouver</td>\n",
       "      <td>2019-10-30 14:30:00</td>\n",
       "      <td>2019-10-30 19:47:00</td>\n",
       "      <td>0 days 05:17:00</td>\n",
       "    </tr>\n",
       "    <tr>\n",
       "      <th>1</th>\n",
       "      <td>SMF</td>\n",
       "      <td>LAX</td>\n",
       "      <td>2020-07-10 11:59:00</td>\n",
       "      <td>2020-07-10 13:27:00</td>\n",
       "      <td>OO</td>\n",
       "      <td>America/Los_Angeles</td>\n",
       "      <td>America/Los_Angeles</td>\n",
       "      <td>2020-07-10 18:59:00</td>\n",
       "      <td>2020-07-10 20:27:00</td>\n",
       "      <td>0 days 01:28:00</td>\n",
       "    </tr>\n",
       "    <tr>\n",
       "      <th>2</th>\n",
       "      <td>CLE</td>\n",
       "      <td>LAX</td>\n",
       "      <td>2019-03-25 18:20:00</td>\n",
       "      <td>2019-03-25 20:30:00</td>\n",
       "      <td>UA</td>\n",
       "      <td>America/New_York</td>\n",
       "      <td>America/Los_Angeles</td>\n",
       "      <td>2019-03-25 22:20:00</td>\n",
       "      <td>2019-03-26 03:30:00</td>\n",
       "      <td>0 days 05:10:00</td>\n",
       "    </tr>\n",
       "    <tr>\n",
       "      <th>3</th>\n",
       "      <td>BDL</td>\n",
       "      <td>ORD</td>\n",
       "      <td>2019-06-29 07:30:00</td>\n",
       "      <td>2019-06-29 09:03:00</td>\n",
       "      <td>UA</td>\n",
       "      <td>America/New_York</td>\n",
       "      <td>America/Chicago</td>\n",
       "      <td>2019-06-29 11:30:00</td>\n",
       "      <td>2019-06-29 14:03:00</td>\n",
       "      <td>0 days 02:33:00</td>\n",
       "    </tr>\n",
       "    <tr>\n",
       "      <th>4</th>\n",
       "      <td>LAX</td>\n",
       "      <td>BOG</td>\n",
       "      <td>2018-11-16 19:10:00</td>\n",
       "      <td>2018-11-17 05:25:00</td>\n",
       "      <td>AV</td>\n",
       "      <td>America/Los_Angeles</td>\n",
       "      <td>America/Bogota</td>\n",
       "      <td>2018-11-17 03:10:00</td>\n",
       "      <td>2018-11-17 10:25:00</td>\n",
       "      <td>0 days 07:15:00</td>\n",
       "    </tr>\n",
       "    <tr>\n",
       "      <th>...</th>\n",
       "      <td>...</td>\n",
       "      <td>...</td>\n",
       "      <td>...</td>\n",
       "      <td>...</td>\n",
       "      <td>...</td>\n",
       "      <td>...</td>\n",
       "      <td>...</td>\n",
       "      <td>...</td>\n",
       "      <td>...</td>\n",
       "      <td>...</td>\n",
       "    </tr>\n",
       "    <tr>\n",
       "      <th>994</th>\n",
       "      <td>HKG</td>\n",
       "      <td>LAX</td>\n",
       "      <td>2018-09-06 00:05:00</td>\n",
       "      <td>2018-09-05 21:55:00</td>\n",
       "      <td>CX</td>\n",
       "      <td>Asia/Hong_Kong</td>\n",
       "      <td>America/Los_Angeles</td>\n",
       "      <td>2018-09-05 16:05:00</td>\n",
       "      <td>2018-09-06 04:55:00</td>\n",
       "      <td>0 days 12:50:00</td>\n",
       "    </tr>\n",
       "    <tr>\n",
       "      <th>995</th>\n",
       "      <td>JFK</td>\n",
       "      <td>LAX</td>\n",
       "      <td>2018-11-03 11:55:00</td>\n",
       "      <td>2018-11-05 14:57:00</td>\n",
       "      <td>DL</td>\n",
       "      <td>America/New_York</td>\n",
       "      <td>America/Los_Angeles</td>\n",
       "      <td>2018-11-03 15:55:00</td>\n",
       "      <td>2018-11-05 22:57:00</td>\n",
       "      <td>2 days 07:02:00</td>\n",
       "    </tr>\n",
       "    <tr>\n",
       "      <th>996</th>\n",
       "      <td>PVG</td>\n",
       "      <td>SFO</td>\n",
       "      <td>2018-11-25 00:15:00</td>\n",
       "      <td>2018-11-26 19:15:00</td>\n",
       "      <td>UA</td>\n",
       "      <td>Asia/Shanghai</td>\n",
       "      <td>America/Los_Angeles</td>\n",
       "      <td>2018-11-24 16:15:00</td>\n",
       "      <td>2018-11-27 03:15:00</td>\n",
       "      <td>2 days 11:00:00</td>\n",
       "    </tr>\n",
       "    <tr>\n",
       "      <th>997</th>\n",
       "      <td>EWR</td>\n",
       "      <td>KEF</td>\n",
       "      <td>2018-02-12 19:30:00</td>\n",
       "      <td>2018-03-12 06:00:00</td>\n",
       "      <td>FI</td>\n",
       "      <td>America/New_York</td>\n",
       "      <td>Atlantic/Reykjavik</td>\n",
       "      <td>2018-02-13 00:30:00</td>\n",
       "      <td>2018-03-12 06:00:00</td>\n",
       "      <td>27 days 05:30:00</td>\n",
       "    </tr>\n",
       "    <tr>\n",
       "      <th>998</th>\n",
       "      <td>LAX</td>\n",
       "      <td>LHR</td>\n",
       "      <td>2018-05-24 15:30:00</td>\n",
       "      <td>2018-05-25 10:10:00</td>\n",
       "      <td>BA</td>\n",
       "      <td>America/Los_Angeles</td>\n",
       "      <td>Europe/London</td>\n",
       "      <td>2018-05-24 22:30:00</td>\n",
       "      <td>2018-05-25 09:10:00</td>\n",
       "      <td>0 days 10:40:00</td>\n",
       "    </tr>\n",
       "  </tbody>\n",
       "</table>\n",
       "<p>999 rows × 10 columns</p>\n",
       "</div>"
      ],
      "text/plain": [
       "    departure_code arrival_code                date        arrival_date  \\\n",
       "0              YYZ          YVR 2019-10-30 10:30:00 2019-10-30 12:47:00   \n",
       "1              SMF          LAX 2020-07-10 11:59:00 2020-07-10 13:27:00   \n",
       "2              CLE          LAX 2019-03-25 18:20:00 2019-03-25 20:30:00   \n",
       "3              BDL          ORD 2019-06-29 07:30:00 2019-06-29 09:03:00   \n",
       "4              LAX          BOG 2018-11-16 19:10:00 2018-11-17 05:25:00   \n",
       "..             ...          ...                 ...                 ...   \n",
       "994            HKG          LAX 2018-09-06 00:05:00 2018-09-05 21:55:00   \n",
       "995            JFK          LAX 2018-11-03 11:55:00 2018-11-05 14:57:00   \n",
       "996            PVG          SFO 2018-11-25 00:15:00 2018-11-26 19:15:00   \n",
       "997            EWR          KEF 2018-02-12 19:30:00 2018-03-12 06:00:00   \n",
       "998            LAX          LHR 2018-05-24 15:30:00 2018-05-25 10:10:00   \n",
       "\n",
       "    carrier  departure_time_zone    arrival_time_zone            date_utc  \\\n",
       "0        AC      America/Toronto    America/Vancouver 2019-10-30 14:30:00   \n",
       "1        OO  America/Los_Angeles  America/Los_Angeles 2020-07-10 18:59:00   \n",
       "2        UA     America/New_York  America/Los_Angeles 2019-03-25 22:20:00   \n",
       "3        UA     America/New_York      America/Chicago 2019-06-29 11:30:00   \n",
       "4        AV  America/Los_Angeles       America/Bogota 2018-11-17 03:10:00   \n",
       "..      ...                  ...                  ...                 ...   \n",
       "994      CX       Asia/Hong_Kong  America/Los_Angeles 2018-09-05 16:05:00   \n",
       "995      DL     America/New_York  America/Los_Angeles 2018-11-03 15:55:00   \n",
       "996      UA        Asia/Shanghai  America/Los_Angeles 2018-11-24 16:15:00   \n",
       "997      FI     America/New_York   Atlantic/Reykjavik 2018-02-13 00:30:00   \n",
       "998      BA  America/Los_Angeles        Europe/London 2018-05-24 22:30:00   \n",
       "\n",
       "       arrival_date_utc            delta  \n",
       "0   2019-10-30 19:47:00  0 days 05:17:00  \n",
       "1   2020-07-10 20:27:00  0 days 01:28:00  \n",
       "2   2019-03-26 03:30:00  0 days 05:10:00  \n",
       "3   2019-06-29 14:03:00  0 days 02:33:00  \n",
       "4   2018-11-17 10:25:00  0 days 07:15:00  \n",
       "..                  ...              ...  \n",
       "994 2018-09-06 04:55:00  0 days 12:50:00  \n",
       "995 2018-11-05 22:57:00  2 days 07:02:00  \n",
       "996 2018-11-27 03:15:00  2 days 11:00:00  \n",
       "997 2018-03-12 06:00:00 27 days 05:30:00  \n",
       "998 2018-05-25 09:10:00  0 days 10:40:00  \n",
       "\n",
       "[999 rows x 10 columns]"
      ]
     },
     "execution_count": 27,
     "metadata": {},
     "output_type": "execute_result"
    }
   ],
   "source": [
    "df"
   ]
  },
  {
   "cell_type": "markdown",
   "metadata": {
    "id": "GQe8lyjQhfPP"
   },
   "source": [
    "Построим гистаграмму"
   ]
  },
  {
   "cell_type": "code",
   "execution_count": 29,
   "metadata": {
    "colab": {
     "base_uri": "https://localhost:8080/",
     "height": 351
    },
    "id": "0YoVUVtfZLD0",
    "outputId": "1600fd98-8857-48a2-f9f9-bd5a625afb2c"
   },
   "outputs": [
    {
     "data": {
      "image/png": "[encoded data removed]",
      "text/plain": [
       "<Figure size 432x288 with 1 Axes>"
      ]
     },
     "metadata": {
      "needs_background": "light"
     },
     "output_type": "display_data"
    }
   ],
   "source": [
    "sns.distplot(df['delta'], kde = False)\n",
    "plt.show()"
   ]
  },
  {
   "cell_type": "code",
   "execution_count": 30,
   "metadata": {
    "colab": {
     "base_uri": "https://localhost:8080/"
    },
    "id": "l6b7zs6JZfEX",
    "outputId": "bcb5b009-416c-40a8-f8cc-81273bbfa532"
   },
   "outputs": [
    {
     "data": {
      "text/plain": [
       "count                          999\n",
       "mean     1 days 04:30:53.448448448\n",
       "std      4 days 15:57:37.819211089\n",
       "min                0 days 00:30:00\n",
       "25%                0 days 01:50:00\n",
       "50%                0 days 03:01:00\n",
       "75%                0 days 06:19:30\n",
       "max               44 days 09:30:00\n",
       "Name: delta, dtype: object"
      ]
     },
     "execution_count": 30,
     "metadata": {},
     "output_type": "execute_result"
    }
   ],
   "source": [
    "df['delta'].describe()"
   ]
  },
  {
   "cell_type": "markdown",
   "metadata": {
    "id": "_fTdDFRCZjOK"
   },
   "source": [
    "На гистограмме можно заметить выбросы и рассмотреть более точные значения с помощью функции describe. В 2021 году первое место среди беспосадочных регулярных коммерческих перелетов занимает вновь запущенный рейс Singapore Airlines из Нью-Йорка в сингапурский Чанги. Лететь 15348 км. Находиться в воздухе придется примерно 18 часов 40 минут. Исходя из этой информации, посмотрим на маршруты, которые привышают время полета в 18 часов."
   ]
  },
  {
   "cell_type": "code",
   "execution_count": 31,
   "metadata": {
    "colab": {
     "base_uri": "https://localhost:8080/",
     "height": 641
    },
    "id": "Z1Xmai9uechl",
    "outputId": "325f019e-3bb2-49bf-f50d-f6b559dedcd2"
   },
   "outputs": [
    {
     "data": {
      "text/html": [
       "<div>\n",
       "<style scoped>\n",
       "    .dataframe tbody tr th:only-of-type {\n",
       "        vertical-align: middle;\n",
       "    }\n",
       "\n",
       "    .dataframe tbody tr th {\n",
       "        vertical-align: top;\n",
       "    }\n",
       "\n",
       "    .dataframe thead th {\n",
       "        text-align: right;\n",
       "    }\n",
       "</style>\n",
       "<table border=\"1\" class=\"dataframe\">\n",
       "  <thead>\n",
       "    <tr style=\"text-align: right;\">\n",
       "      <th></th>\n",
       "      <th>departure_code</th>\n",
       "      <th>arrival_code</th>\n",
       "      <th>date</th>\n",
       "      <th>arrival_date</th>\n",
       "      <th>carrier</th>\n",
       "      <th>departure_time_zone</th>\n",
       "      <th>arrival_time_zone</th>\n",
       "      <th>date_utc</th>\n",
       "      <th>arrival_date_utc</th>\n",
       "      <th>delta</th>\n",
       "    </tr>\n",
       "  </thead>\n",
       "  <tbody>\n",
       "    <tr>\n",
       "      <th>900</th>\n",
       "      <td>LAS</td>\n",
       "      <td>RDU</td>\n",
       "      <td>2019-05-02 23:20:00</td>\n",
       "      <td>2019-05-05 06:45:00</td>\n",
       "      <td>F9</td>\n",
       "      <td>America/Los_Angeles</td>\n",
       "      <td>America/New_York</td>\n",
       "      <td>2019-05-03 06:20:00</td>\n",
       "      <td>2019-05-05 10:45:00</td>\n",
       "      <td>2 days 04:25:00</td>\n",
       "    </tr>\n",
       "    <tr>\n",
       "      <th>901</th>\n",
       "      <td>ORD</td>\n",
       "      <td>KEF</td>\n",
       "      <td>2019-07-01 18:30:00</td>\n",
       "      <td>2019-08-01 06:35:00</td>\n",
       "      <td>FI</td>\n",
       "      <td>America/Chicago</td>\n",
       "      <td>Atlantic/Reykjavik</td>\n",
       "      <td>2019-07-01 23:30:00</td>\n",
       "      <td>2019-08-01 06:35:00</td>\n",
       "      <td>30 days 07:05:00</td>\n",
       "    </tr>\n",
       "    <tr>\n",
       "      <th>902</th>\n",
       "      <td>JFK</td>\n",
       "      <td>KEF</td>\n",
       "      <td>2018-02-10 20:20:00</td>\n",
       "      <td>2018-03-10 05:55:00</td>\n",
       "      <td>FI</td>\n",
       "      <td>America/New_York</td>\n",
       "      <td>Atlantic/Reykjavik</td>\n",
       "      <td>2018-02-11 01:20:00</td>\n",
       "      <td>2018-03-10 05:55:00</td>\n",
       "      <td>27 days 04:35:00</td>\n",
       "    </tr>\n",
       "    <tr>\n",
       "      <th>903</th>\n",
       "      <td>LGW</td>\n",
       "      <td>MCO</td>\n",
       "      <td>2018-06-11 11:45:00</td>\n",
       "      <td>2018-07-25 16:15:00</td>\n",
       "      <td>VS</td>\n",
       "      <td>Europe/London</td>\n",
       "      <td>America/New_York</td>\n",
       "      <td>2018-06-11 10:45:00</td>\n",
       "      <td>2018-07-25 20:15:00</td>\n",
       "      <td>44 days 09:30:00</td>\n",
       "    </tr>\n",
       "    <tr>\n",
       "      <th>904</th>\n",
       "      <td>SJD</td>\n",
       "      <td>LAX</td>\n",
       "      <td>2019-03-23 12:45:00</td>\n",
       "      <td>2019-03-28 15:27:00</td>\n",
       "      <td>DL</td>\n",
       "      <td>America/Mazatlan</td>\n",
       "      <td>America/Los_Angeles</td>\n",
       "      <td>2019-03-23 19:45:00</td>\n",
       "      <td>2019-03-28 22:27:00</td>\n",
       "      <td>5 days 02:42:00</td>\n",
       "    </tr>\n",
       "    <tr>\n",
       "      <th>...</th>\n",
       "      <td>...</td>\n",
       "      <td>...</td>\n",
       "      <td>...</td>\n",
       "      <td>...</td>\n",
       "      <td>...</td>\n",
       "      <td>...</td>\n",
       "      <td>...</td>\n",
       "      <td>...</td>\n",
       "      <td>...</td>\n",
       "      <td>...</td>\n",
       "    </tr>\n",
       "    <tr>\n",
       "      <th>992</th>\n",
       "      <td>BRU</td>\n",
       "      <td>EWR</td>\n",
       "      <td>2018-06-30 10:00:00</td>\n",
       "      <td>2018-07-02 12:10:00</td>\n",
       "      <td>UA</td>\n",
       "      <td>Europe/Brussels</td>\n",
       "      <td>America/New_York</td>\n",
       "      <td>2018-06-30 08:00:00</td>\n",
       "      <td>2018-07-02 16:10:00</td>\n",
       "      <td>2 days 08:10:00</td>\n",
       "    </tr>\n",
       "    <tr>\n",
       "      <th>993</th>\n",
       "      <td>IST</td>\n",
       "      <td>IAD</td>\n",
       "      <td>2019-06-18 14:55:00</td>\n",
       "      <td>2019-07-18 19:30:00</td>\n",
       "      <td>TK</td>\n",
       "      <td>Turkey</td>\n",
       "      <td>America/New_York</td>\n",
       "      <td>2019-06-18 11:55:00</td>\n",
       "      <td>2019-07-18 23:30:00</td>\n",
       "      <td>30 days 11:35:00</td>\n",
       "    </tr>\n",
       "    <tr>\n",
       "      <th>995</th>\n",
       "      <td>JFK</td>\n",
       "      <td>LAX</td>\n",
       "      <td>2018-11-03 11:55:00</td>\n",
       "      <td>2018-11-05 14:57:00</td>\n",
       "      <td>DL</td>\n",
       "      <td>America/New_York</td>\n",
       "      <td>America/Los_Angeles</td>\n",
       "      <td>2018-11-03 15:55:00</td>\n",
       "      <td>2018-11-05 22:57:00</td>\n",
       "      <td>2 days 07:02:00</td>\n",
       "    </tr>\n",
       "    <tr>\n",
       "      <th>996</th>\n",
       "      <td>PVG</td>\n",
       "      <td>SFO</td>\n",
       "      <td>2018-11-25 00:15:00</td>\n",
       "      <td>2018-11-26 19:15:00</td>\n",
       "      <td>UA</td>\n",
       "      <td>Asia/Shanghai</td>\n",
       "      <td>America/Los_Angeles</td>\n",
       "      <td>2018-11-24 16:15:00</td>\n",
       "      <td>2018-11-27 03:15:00</td>\n",
       "      <td>2 days 11:00:00</td>\n",
       "    </tr>\n",
       "    <tr>\n",
       "      <th>997</th>\n",
       "      <td>EWR</td>\n",
       "      <td>KEF</td>\n",
       "      <td>2018-02-12 19:30:00</td>\n",
       "      <td>2018-03-12 06:00:00</td>\n",
       "      <td>FI</td>\n",
       "      <td>America/New_York</td>\n",
       "      <td>Atlantic/Reykjavik</td>\n",
       "      <td>2018-02-13 00:30:00</td>\n",
       "      <td>2018-03-12 06:00:00</td>\n",
       "      <td>27 days 05:30:00</td>\n",
       "    </tr>\n",
       "  </tbody>\n",
       "</table>\n",
       "<p>86 rows × 10 columns</p>\n",
       "</div>"
      ],
      "text/plain": [
       "    departure_code arrival_code                date        arrival_date  \\\n",
       "900            LAS          RDU 2019-05-02 23:20:00 2019-05-05 06:45:00   \n",
       "901            ORD          KEF 2019-07-01 18:30:00 2019-08-01 06:35:00   \n",
       "902            JFK          KEF 2018-02-10 20:20:00 2018-03-10 05:55:00   \n",
       "903            LGW          MCO 2018-06-11 11:45:00 2018-07-25 16:15:00   \n",
       "904            SJD          LAX 2019-03-23 12:45:00 2019-03-28 15:27:00   \n",
       "..             ...          ...                 ...                 ...   \n",
       "992            BRU          EWR 2018-06-30 10:00:00 2018-07-02 12:10:00   \n",
       "993            IST          IAD 2019-06-18 14:55:00 2019-07-18 19:30:00   \n",
       "995            JFK          LAX 2018-11-03 11:55:00 2018-11-05 14:57:00   \n",
       "996            PVG          SFO 2018-11-25 00:15:00 2018-11-26 19:15:00   \n",
       "997            EWR          KEF 2018-02-12 19:30:00 2018-03-12 06:00:00   \n",
       "\n",
       "    carrier  departure_time_zone    arrival_time_zone            date_utc  \\\n",
       "900      F9  America/Los_Angeles     America/New_York 2019-05-03 06:20:00   \n",
       "901      FI      America/Chicago   Atlantic/Reykjavik 2019-07-01 23:30:00   \n",
       "902      FI     America/New_York   Atlantic/Reykjavik 2018-02-11 01:20:00   \n",
       "903      VS        Europe/London     America/New_York 2018-06-11 10:45:00   \n",
       "904      DL     America/Mazatlan  America/Los_Angeles 2019-03-23 19:45:00   \n",
       "..      ...                  ...                  ...                 ...   \n",
       "992      UA      Europe/Brussels     America/New_York 2018-06-30 08:00:00   \n",
       "993      TK               Turkey     America/New_York 2019-06-18 11:55:00   \n",
       "995      DL     America/New_York  America/Los_Angeles 2018-11-03 15:55:00   \n",
       "996      UA        Asia/Shanghai  America/Los_Angeles 2018-11-24 16:15:00   \n",
       "997      FI     America/New_York   Atlantic/Reykjavik 2018-02-13 00:30:00   \n",
       "\n",
       "       arrival_date_utc            delta  \n",
       "900 2019-05-05 10:45:00  2 days 04:25:00  \n",
       "901 2019-08-01 06:35:00 30 days 07:05:00  \n",
       "902 2018-03-10 05:55:00 27 days 04:35:00  \n",
       "903 2018-07-25 20:15:00 44 days 09:30:00  \n",
       "904 2019-03-28 22:27:00  5 days 02:42:00  \n",
       "..                  ...              ...  \n",
       "992 2018-07-02 16:10:00  2 days 08:10:00  \n",
       "993 2019-07-18 23:30:00 30 days 11:35:00  \n",
       "995 2018-11-05 22:57:00  2 days 07:02:00  \n",
       "996 2018-11-27 03:15:00  2 days 11:00:00  \n",
       "997 2018-03-12 06:00:00 27 days 05:30:00  \n",
       "\n",
       "[86 rows x 10 columns]"
      ]
     },
     "execution_count": 31,
     "metadata": {},
     "output_type": "execute_result"
    }
   ],
   "source": [
    "df[df['delta'] > timedelta(days=0, hours=18, minutes=0, seconds=0)]"
   ]
  },
  {
   "cell_type": "markdown",
   "metadata": {
    "id": "NT8_lxueaMpW"
   },
   "source": [
    "Итак мы имеем 86 маршрутов, которые длятся более 18 часов. Возьмем самый длительный полет и посмотрим между какими городами он был совершен."
   ]
  },
  {
   "cell_type": "code",
   "execution_count": 32,
   "metadata": {
    "id": "xpBZJzMfatbm"
   },
   "outputs": [],
   "source": [
    "airports_city = airports[['City', 'IATA']]"
   ]
  },
  {
   "cell_type": "code",
   "execution_count": 34,
   "metadata": {
    "colab": {
     "base_uri": "https://localhost:8080/",
     "height": 179
    },
    "id": "9vRGMKPoacKE",
    "outputId": "c164046f-9be3-46b8-fa0b-a9d31caee662"
   },
   "outputs": [
    {
     "data": {
      "text/html": [
       "<div>\n",
       "<style scoped>\n",
       "    .dataframe tbody tr th:only-of-type {\n",
       "        vertical-align: middle;\n",
       "    }\n",
       "\n",
       "    .dataframe tbody tr th {\n",
       "        vertical-align: top;\n",
       "    }\n",
       "\n",
       "    .dataframe thead th {\n",
       "        text-align: right;\n",
       "    }\n",
       "</style>\n",
       "<table border=\"1\" class=\"dataframe\">\n",
       "  <thead>\n",
       "    <tr style=\"text-align: right;\">\n",
       "      <th></th>\n",
       "      <th>departure_code</th>\n",
       "      <th>arrival_code</th>\n",
       "      <th>date</th>\n",
       "      <th>arrival_date</th>\n",
       "      <th>carrier</th>\n",
       "      <th>departure_time_zone</th>\n",
       "      <th>arrival_time_zone</th>\n",
       "      <th>date_utc</th>\n",
       "      <th>arrival_date_utc</th>\n",
       "      <th>delta</th>\n",
       "      <th>departure_city</th>\n",
       "      <th>arrival_city</th>\n",
       "    </tr>\n",
       "  </thead>\n",
       "  <tbody>\n",
       "    <tr>\n",
       "      <th>0</th>\n",
       "      <td>LGW</td>\n",
       "      <td>MCO</td>\n",
       "      <td>2018-06-11 11:45:00</td>\n",
       "      <td>2018-07-25 16:15:00</td>\n",
       "      <td>VS</td>\n",
       "      <td>Europe/London</td>\n",
       "      <td>America/New_York</td>\n",
       "      <td>2018-06-11 10:45:00</td>\n",
       "      <td>2018-07-25 20:15:00</td>\n",
       "      <td>44 days 09:30:00</td>\n",
       "      <td>London</td>\n",
       "      <td>Orlando</td>\n",
       "    </tr>\n",
       "  </tbody>\n",
       "</table>\n",
       "</div>"
      ],
      "text/plain": [
       "  departure_code arrival_code                date        arrival_date carrier  \\\n",
       "0            LGW          MCO 2018-06-11 11:45:00 2018-07-25 16:15:00      VS   \n",
       "\n",
       "  departure_time_zone arrival_time_zone            date_utc  \\\n",
       "0       Europe/London  America/New_York 2018-06-11 10:45:00   \n",
       "\n",
       "     arrival_date_utc            delta departure_city arrival_city  \n",
       "0 2018-07-25 20:15:00 44 days 09:30:00         London      Orlando  "
      ]
     },
     "execution_count": 34,
     "metadata": {},
     "output_type": "execute_result"
    }
   ],
   "source": [
    "df[df['delta'] == df['delta'].max()].merge(airports_city, how='left', left_on='departure_code', right_on='IATA') \\\n",
    "  .rename(columns={'City': 'departure_city'}) \\\n",
    "  .drop(columns=['IATA'], axis=1) \\\n",
    "  .merge(airports_city, how='left', left_on='arrival_code', right_on='IATA') \\\n",
    "  .rename(columns={'City': 'arrival_city'}) \\\n",
    "  .drop(columns=['IATA'], axis=1)"
   ]
  },
  {
   "cell_type": "markdown",
   "metadata": {
    "id": "C5ZqCu0jcLKa"
   },
   "source": [
    "Маршрут Лондон-Орландо без пересадок длится 9 часов 20 минут. Я думаю, что либо в данных произошел сбой, либо эти маршруты указаны с пересадками, поэтому такое большое время полета."
   ]
  }
 ],
 "metadata": {
  "colab": {
   "collapsed_sections": [],
   "name": "Копия Тестовое",
   "provenance": []
  },
  "kernelspec": {
   "display_name": "Python 3 (ipykernel)",
   "language": "python",
   "name": "python3"
  },
  "language_info": {
   "codemirror_mode": {
    "name": "ipython",
    "version": 3
   },
   "file_extension": ".py",
   "mimetype": "text/x-python",
   "name": "python",
   "nbconvert_exporter": "python",
   "pygments_lexer": "ipython3",
   "version": "3.9.10"
  }
 },
 "nbformat": 4,
 "nbformat_minor": 1
}
